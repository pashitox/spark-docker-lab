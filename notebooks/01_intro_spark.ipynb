{
 "cells": [
  {
   "cell_type": "code",
   "execution_count": 6,
   "metadata": {},
   "outputs": [
    {
     "name": "stdout",
     "output_type": "stream",
     "text": [
      "SparkSession anterior cerrada\n",
      "PySpark version: 3.5.1\n",
      "Spark version: 3.5.1\n",
      "SparkSession creada exitosamente!\n",
      "DataFrame de prueba:\n"
     ]
    },
    {
     "name": "stderr",
     "output_type": "stream",
     "text": [
      "                                                                                "
     ]
    },
    {
     "name": "stdout",
     "output_type": "stream",
     "text": [
      "+---+-------+\n",
      "| id|   name|\n",
      "+---+-------+\n",
      "|  1|  Alice|\n",
      "|  2|    Bob|\n",
      "|  3|Charlie|\n",
      "+---+-------+\n",
      "\n"
     ]
    },
    {
     "name": "stderr",
     "output_type": "stream",
     "text": [
      "                                                                                "
     ]
    },
    {
     "name": "stdout",
     "output_type": "stream",
     "text": [
      "Datos de clientes (primeras 5 filas):\n",
      "+----------+--------+------+\n",
      "|cliente_id|  ciudad|  pais|\n",
      "+----------+--------+------+\n",
      "|         1|    Lima|  Perú|\n",
      "|         2|Arequipa|Perú  |\n",
      "|         3|Trujillo|  Perú|\n",
      "|         4|   Cusco|  Perú|\n",
      "+----------+--------+------+\n",
      "\n",
      "Datos de ventas (primeras 5 filas):\n",
      "+----------+-----------+-----------+------+--------+--------+\n",
      "|     fecha|producto_id|  categoria|precio|cantidad|  ciudad|\n",
      "+----------+-----------+-----------+------+--------+--------+\n",
      "|2024-01-01|        101|Electrónica|299.99|       2|    Lima|\n",
      "|2024-01-01|        102|       Ropa| 49.99|       5|Arequipa|\n",
      "|2024-01-02|        101|Electrónica|299.99|       1|Trujillo|\n",
      "|2024-01-02|        103|      Hogar| 89.99|       3|    Lima|\n",
      "|2024-01-03|        102|       Ropa| 49.99|       2|Arequipa|\n",
      "+----------+-----------+-----------+------+--------+--------+\n",
      "only showing top 5 rows\n",
      "\n",
      "Número de filas en DataFrame prueba: 3\n",
      "Número de filas en datos de clientes: 4\n",
      "Número de filas en datos de ventas: 8\n"
     ]
    },
    {
     "name": "stderr",
     "output_type": "stream",
     "text": [
      "----------------------------------------\n",
      "Exception occurred during processing of request from ('127.0.0.1', 46662)\n",
      "Traceback (most recent call last):\n",
      "  File \"/usr/local/lib/python3.11/socketserver.py\", line 317, in _handle_request_noblock\n",
      "    self.process_request(request, client_address)\n",
      "  File \"/usr/local/lib/python3.11/socketserver.py\", line 348, in process_request\n",
      "    self.finish_request(request, client_address)\n",
      "  File \"/usr/local/lib/python3.11/socketserver.py\", line 361, in finish_request\n",
      "    self.RequestHandlerClass(request, client_address, self)\n",
      "  File \"/usr/local/lib/python3.11/socketserver.py\", line 755, in __init__\n",
      "    self.handle()\n",
      "  File \"/usr/local/lib/python3.11/site-packages/pyspark/accumulators.py\", line 295, in handle\n",
      "    poll(accum_updates)\n",
      "  File \"/usr/local/lib/python3.11/site-packages/pyspark/accumulators.py\", line 267, in poll\n",
      "    if self.rfile in r and func():\n",
      "                           ^^^^^^\n",
      "  File \"/usr/local/lib/python3.11/site-packages/pyspark/accumulators.py\", line 271, in accum_updates\n",
      "    num_updates = read_int(self.rfile)\n",
      "                  ^^^^^^^^^^^^^^^^^^^^\n",
      "  File \"/usr/local/lib/python3.11/site-packages/pyspark/serializers.py\", line 596, in read_int\n",
      "    raise EOFError\n",
      "EOFError\n",
      "----------------------------------------\n"
     ]
    }
   ],
   "source": [
    "# Celda 1: Verificar y limpiar sessions existentes\n",
    "from pyspark.sql import SparkSession\n",
    "from pyspark import SparkContext\n",
    "import pyspark\n",
    "\n",
    "# Cerrar cualquier SparkSession existente\n",
    "if 'spark' in globals():\n",
    "    spark.stop()\n",
    "    print(\"SparkSession anterior cerrada\")\n",
    "\n",
    "# Verificar versiones\n",
    "print(f\"PySpark version: {pyspark.__version__}\")\n",
    "\n",
    "# Celda 2: Crear UNA sola SparkSession\n",
    "spark = SparkSession.builder \\\n",
    "    .appName(\"JupyterSpark\") \\\n",
    "    .master(\"spark://spark-master:7077\") \\\n",
    "    .config(\"spark.submit.deployMode\", \"client\") \\\n",
    "    .config(\"spark.driver.host\", \"spark-jupyter\") \\\n",
    "    .config(\"spark.serializer\", \"org.apache.spark.serializer.KryoSerializer\") \\\n",
    "    .getOrCreate()\n",
    "\n",
    "print(f\"Spark version: {spark.version}\")\n",
    "print(\"SparkSession creada exitosamente!\")\n",
    "\n",
    "# Celda 3: Probar con datos simples\n",
    "df = spark.createDataFrame([\n",
    "    (1, \"Alice\"),\n",
    "    (2, \"Bob\"), \n",
    "    (3, \"Charlie\")\n",
    "], [\"id\", \"name\"])\n",
    "\n",
    "print(\"DataFrame de prueba:\")\n",
    "df.show()\n",
    "\n",
    "# Celda 4: Leer datos reales con las rutas CORRECTAS\n",
    "clientes_df = spark.read.csv(\"/data/batch/clientes.csv\", header=True, inferSchema=True)\n",
    "ventas_df = spark.read.csv(\"/data/batch/ventas.csv\", header=True, inferSchema=True)\n",
    "\n",
    "print(\"Datos de clientes (primeras 5 filas):\")\n",
    "clientes_df.show(5)\n",
    "\n",
    "print(\"Datos de ventas (primeras 5 filas):\")\n",
    "ventas_df.show(5)\n",
    "\n",
    "# Celda 5: Operaciones adicionales CORREGIDAS\n",
    "count_df = df.count()\n",
    "count_clientes = clientes_df.count()\n",
    "count_ventas = ventas_df.count()\n",
    "\n",
    "print(f\"Número de filas en DataFrame prueba: {count_df}\")\n",
    "print(f\"Número de filas en datos de clientes: {count_clientes}\")\n",
    "print(f\"Número de filas en datos de ventas: {count_ventas}\")"
   ]
  },
  {
   "cell_type": "code",
   "execution_count": null,
   "metadata": {},
   "outputs": [],
   "source": []
  }
 ],
 "metadata": {
  "kernelspec": {
   "display_name": "Python 3 (ipykernel)",
   "language": "python",
   "name": "python3"
  },
  "language_info": {
   "codemirror_mode": {
    "name": "ipython",
    "version": 3
   },
   "file_extension": ".py",
   "mimetype": "text/x-python",
   "name": "python",
   "nbconvert_exporter": "python",
   "pygments_lexer": "ipython3",
   "version": "3.11.13"
  }
 },
 "nbformat": 4,
 "nbformat_minor": 4
}
